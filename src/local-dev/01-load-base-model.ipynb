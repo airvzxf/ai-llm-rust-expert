{
 "cells": [
  {
   "cell_type": "markdown",
   "metadata": {},
   "source": [
    "# Load a Base Model\n",
    "\n",
    "This notebook demonstrates how to load a pre-trained model from Hugging Face using the `transformers` library.\n",
    "\n",
    "We will use `mistralai/Mistral-7B-v0.1` as an example."
   ]
  },
  {
   "cell_type": "markdown",
   "metadata": {},
   "source": [
    "### Authentication Required\n",
    "\n",
    "The model `mistralai/Mistral-7B-v0.1` is a \"gated model\", which means you need to accept its terms of use on Hugging Face and log in with an access token to download it.\n",
    "\n",
    "**Step 1: Grant Access on the Hugging Face Website**\n",
    "\n",
    "1.  Go to the model's page: [https://huggingface.co/mistralai/Mistral-7B-v0.1](https://huggingface.co/mistralai/Mistral-7B-v0.1)\n",
    "2.  Log in with your Hugging Face account.\n",
    "3.  Read and accept the terms and conditions to get access to the model.\n",
    "\n",
    "**Step 2: Authenticate Your Local Environment**\n",
    "\n",
    "After getting access on the website, you need to log in from your terminal.\n",
    "\n",
    "1.  Activate the virtual environment: `source .venv/bin/activate`\n",
    "2.  Run the login command:\n",
    "    ```bash\n",
    "    huggingface-cli login\n",
    "    ```\n",
    "3.  Paste your Hugging Face access token when prompted. You can create one in your account settings under **Settings > Access Tokens**.\n",
    "\n",
    "Once authenticated, you can proceed to run the code cell below."
   ]
  },
  {
   "cell_type": "code",
   "execution_count": null,
   "metadata": {},
   "outputs": [],
   "source": [
    "import sys\n",
    "\n",
    "# See the Python binary file that's executing. This is helpful when you're using a virtual environment.\n",
    "print(sys.executable)"
   ]
  },
  {
   "cell_type": "code",
   "execution_count": null,
   "metadata": {},
   "outputs": [],
   "source": [
    "import torch\n",
    "from transformers import AutoModelForCausalLM, AutoTokenizer\n",
    "\n",
    "model_name = \"mistralai/Mistral-7B-v0.1\"\n",
    "\n",
    "print(f\"Loading tokenizer for {model_name}...\")\n",
    "tokenizer = AutoTokenizer.from_pretrained(model_name)\n",
    "\n",
    "# Forcing CPU execution as a fallback for older GPUs or CUDA incompatibility.\n",
    "device = \"cpu\"\n",
    "print(f\"Using device: {device}\")\n",
    "\n",
    "print(f\"Loading model {model_name}...\")\n",
    "# NOTE: Running on CPU will be significantly slower than on a compatible GPU.\n",
    "# 4-bit quantization (`load_in_4bit`) is a CUDA feature and is disabled for CPU execution.\n",
    "model = AutoModelForCausalLM.from_pretrained(\n",
    "    model_name,\n",
    ")\n",
    "model.to(device) # Move model to CPU\n",
    "\n",
    "print(\"Model and tokenizer loaded successfully!\")"
   ]
  },
  {
   "cell_type": "code",
   "execution_count": null,
   "metadata": {},
   "outputs": [],
   "source": [
    "import torch\n",
    "\n",
    "# 1. Define a prompt\n",
    "# The prompt format should match the one the model was trained on.\n",
    "# For Mistral models, it's common to use instruction tokens.\n",
    "prompt = \"<s>[INST] Write a simple Rust function that adds two numbers. [/INST]\"\n",
    "\n",
    "# 2. Tokenize the prompt\n",
    "# `return_tensors=\"pt\"` ensures we get PyTorch tensors.\n",
    "inputs = tokenizer(prompt, return_tensors=\"pt\")\n",
    "\n",
    "# 3. Generate a response\n",
    "# We move the inputs to the same device as the model.\n",
    "# `max_new_tokens` limits the length of the generated response.\n",
    "with torch.no_grad():\n",
    "    outputs = model.generate(\n",
    "        input_ids=inputs[\"input_ids\"].to(model.device),\n",
    "        attention_mask=inputs[\"attention_mask\"].to(model.device),\n",
    "        max_new_tokens=100,\n",
    "        pad_token_id=tokenizer.eos_token_id # Set pad_token_id to eos_token_id for open-end generation\n",
    "    )\n",
    "\n",
    "# 4. Decode and print the response\n",
    "response = tokenizer.decode(outputs[0], skip_special_tokens=True)\n",
    "print(response)"
   ]
  },
  {
   "cell_type": "code",
   "execution_count": null,
   "metadata": {},
   "outputs": [],
   "source": []
  }
 ],
 "metadata": {
  "kernelspec": {
   "display_name": "Python 3 (ipykernel)",
   "language": "python",
   "name": "python3"
  },
  "language_info": {
   "codemirror_mode": {
    "name": "ipython",
    "version": 3
   },
   "file_extension": ".py",
   "mimetype": "text/x-python",
   "name": "python",
   "nbconvert_exporter": "python",
   "pygments_lexer": "ipython3",
   "version": "3.13.7"
  }
 },
 "nbformat": 4,
 "nbformat_minor": 4
}
